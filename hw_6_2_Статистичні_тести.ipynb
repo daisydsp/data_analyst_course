{
  "cells": [
    {
      "cell_type": "markdown",
      "id": "e152f6d6",
      "metadata": {
        "ExecuteTime": {
          "end_time": "2022-12-10T14:29:24.703416Z",
          "start_time": "2022-12-10T14:29:24.688485Z"
        },
        "id": "e152f6d6"
      },
      "source": [
        "## Домашнє завдання 6: Статистичні тести"
      ]
    },
    {
      "cell_type": "markdown",
      "id": "cd404683",
      "metadata": {
        "id": "cd404683"
      },
      "source": [
        "0. Зчитайте дані з `data.csv` та запишіть значення колонки data у форматі np.ndarray в змінну data. Ми будемо далі працювати з цією змінною."
      ]
    },
    {
      "cell_type": "code",
      "execution_count": 1,
      "id": "a8M1Xqa3hInl",
      "metadata": {
        "id": "a8M1Xqa3hInl"
      },
      "outputs": [
        {
          "name": "stdout",
          "output_type": "stream",
          "text": [
            "Collecting statsmodels\n",
            "  Downloading statsmodels-0.14.4-cp312-cp312-win_amd64.whl.metadata (9.5 kB)\n",
            "Requirement already satisfied: numpy<3,>=1.22.3 in c:\\users\\zubak\\.conda\\envs\\py312\\lib\\site-packages (from statsmodels) (1.26.4)\n",
            "Collecting scipy!=1.9.2,>=1.8 (from statsmodels)\n",
            "  Downloading scipy-1.15.1-cp312-cp312-win_amd64.whl.metadata (60 kB)\n",
            "Requirement already satisfied: pandas!=2.1.0,>=1.4 in c:\\users\\zubak\\.conda\\envs\\py312\\lib\\site-packages (from statsmodels) (2.2.3)\n",
            "Collecting patsy>=0.5.6 (from statsmodels)\n",
            "  Downloading patsy-1.0.1-py2.py3-none-any.whl.metadata (3.3 kB)\n",
            "Requirement already satisfied: packaging>=21.3 in c:\\users\\zubak\\.conda\\envs\\py312\\lib\\site-packages (from statsmodels) (24.1)\n",
            "Requirement already satisfied: python-dateutil>=2.8.2 in c:\\users\\zubak\\.conda\\envs\\py312\\lib\\site-packages (from pandas!=2.1.0,>=1.4->statsmodels) (2.9.0.post0)\n",
            "Requirement already satisfied: pytz>=2020.1 in c:\\users\\zubak\\.conda\\envs\\py312\\lib\\site-packages (from pandas!=2.1.0,>=1.4->statsmodels) (2024.1)\n",
            "Requirement already satisfied: tzdata>=2022.7 in c:\\users\\zubak\\.conda\\envs\\py312\\lib\\site-packages (from pandas!=2.1.0,>=1.4->statsmodels) (2023.3)\n",
            "Requirement already satisfied: six>=1.5 in c:\\users\\zubak\\.conda\\envs\\py312\\lib\\site-packages (from python-dateutil>=2.8.2->pandas!=2.1.0,>=1.4->statsmodels) (1.16.0)\n",
            "Downloading statsmodels-0.14.4-cp312-cp312-win_amd64.whl (9.8 MB)\n",
            "   ---------------------------------------- 0.0/9.8 MB ? eta -:--:--\n",
            "   -------------------- ------------------- 5.0/9.8 MB 33.7 MB/s eta 0:00:01\n",
            "   ---------------------------------------- 9.8/9.8 MB 43.9 MB/s eta 0:00:00\n",
            "Downloading patsy-1.0.1-py2.py3-none-any.whl (232 kB)\n",
            "Downloading scipy-1.15.1-cp312-cp312-win_amd64.whl (43.6 MB)\n",
            "   ---------------------------------------- 0.0/43.6 MB ? eta -:--:--\n",
            "   ----------- ---------------------------- 12.6/43.6 MB 60.7 MB/s eta 0:00:01\n",
            "   --------------------- ------------------ 23.3/43.6 MB 73.9 MB/s eta 0:00:01\n",
            "   ----------------------------- ---------- 32.5/43.6 MB 52.9 MB/s eta 0:00:01\n",
            "   ---------------------------------------  43.5/43.6 MB 53.3 MB/s eta 0:00:01\n",
            "   ---------------------------------------- 43.6/43.6 MB 50.5 MB/s eta 0:00:00\n",
            "Installing collected packages: scipy, patsy, statsmodels\n",
            "Successfully installed patsy-1.0.1 scipy-1.15.1 statsmodels-0.14.4\n"
          ]
        }
      ],
      "source": [
        "!pip install statsmodels"
      ]
    },
    {
      "cell_type": "code",
      "execution_count": 2,
      "id": "9ea36f13",
      "metadata": {},
      "outputs": [],
      "source": [
        "import pandas as pd\n",
        "import numpy as np\n",
        "df = pd.read_csv('../data/data.csv')\n",
        "\n",
        "data = df['data'].to_numpy()"
      ]
    },
    {
      "cell_type": "markdown",
      "id": "3d06cbbf",
      "metadata": {
        "id": "3d06cbbf"
      },
      "source": [
        "Запустіть код нижче. Для коректної робити всіх подальших методів дані мають бути у вигляді одновимірного вектора, тобто мати розмір (100,)."
      ]
    },
    {
      "cell_type": "code",
      "execution_count": 3,
      "id": "Rc_cM9TfhJYI",
      "metadata": {
        "id": "Rc_cM9TfhJYI"
      },
      "outputs": [
        {
          "data": {
            "text/plain": [
              "(100,)"
            ]
          },
          "execution_count": 3,
          "metadata": {},
          "output_type": "execute_result"
        }
      ],
      "source": [
        "data.shape"
      ]
    },
    {
      "cell_type": "code",
      "execution_count": 5,
      "id": "01c1a9a6",
      "metadata": {},
      "outputs": [
        {
          "data": {
            "text/plain": [
              "array([17.49945292, 19.66239904,  7.18282343, 29.84162485,  9.23938649,\n",
              "       14.94951581, 23.0172885 , 12.52827148, 13.65228669, 14.54595431,\n",
              "       23.30872427, 33.75324808, 20.24923636, 13.29244733, 23.23434992,\n",
              "       16.4230418 , 19.88521702, 27.05000732, 15.5127743 , 20.05415151,\n",
              "       14.73135264, 19.06139498, 21.53942271, 14.06732571, 17.9670682 ,\n",
              "       18.58289581, 16.17406993, 12.87432628, 11.47269664, 19.07902883,\n",
              "       18.38565824, 33.38820073,  5.39139454, 20.67635903, 22.22266722,\n",
              "       28.15780318, 23.01114324, 14.93471778, 20.00005857, 23.25411543,\n",
              "       18.11895082, 24.62607043,  8.79145607, 30.387108  , 28.80606806,\n",
              "       17.98593597, 23.66804468, 20.28782355, 15.02518827, 20.52626131,\n",
              "       26.00219532, 17.71344489, 17.74598346, 19.55317542, 22.60097798,\n",
              "       27.67027538, 16.19192417, 23.05037746, 21.29669604,  8.84832568,\n",
              "       17.48410111, 19.20602661, 19.76257856, 21.9560206 ,  7.75806171,\n",
              "       20.27753314, 15.93394654, 11.36336584, 23.14577858, 24.41167746,\n",
              "       16.08049839, 25.05473769, 17.71090111, 20.39893405, 13.40756632,\n",
              "       29.50692234,  4.04330326, 19.45128426, 24.17071763,  7.79920072,\n",
              "       18.86318441, 19.53668801, 24.94821803, 27.48927752, 17.57664638,\n",
              "       11.692888  , 28.20341254, 27.3073138 , 17.22796791, 22.10533096,\n",
              "       22.2911974 , 23.39765265, 21.22524787, 28.44017745,  9.57224297,\n",
              "       26.24494372, 22.28283182, 18.69718839, 27.04118899,  5.93838085])"
            ]
          },
          "execution_count": 5,
          "metadata": {},
          "output_type": "execute_result"
        }
      ],
      "source": [
        "data"
      ]
    },
    {
      "cell_type": "markdown",
      "id": "abdcef5d",
      "metadata": {
        "id": "abdcef5d"
      },
      "source": [
        "1. Зчитані дані - це сума покупок в доларах наших покупців на сайті протягом липня 2022 року.\n",
        "\n",
        "До цього місяця, ми мали продажі в середньому на чек $20. Чи вийшло у нас статистично значущо **підвищити** середній чек за останній місяць?\n",
        "\n",
        "Оберіть статистичний тест (z-test чи t-test). Виведіть p-значення статистичного тесту та зробіть висновок, чи ми маємо зараз статистично значущу різницю у розмірі середнього чеку.\n",
        "\n",
        "**Підказка**: тут тест буде одновибірковий."
      ]
    },
    {
      "cell_type": "code",
      "execution_count": 6,
      "id": "XhxcSbYqhLz9",
      "metadata": {
        "id": "XhxcSbYqhLz9"
      },
      "outputs": [],
      "source": [
        "from statsmodels.stats.weightstats import ztest"
      ]
    },
    {
      "cell_type": "code",
      "execution_count": 12,
      "id": "e0694c70",
      "metadata": {},
      "outputs": [],
      "source": [
        "# Нульова гіпотеза (H0): Середній чек дорівнює 20 доларам\n",
        "# Альтернативна гіпотеза (H1): Середній чек більше 20 доларів\n",
        "\n",
        "null_mean = 20\n",
        "alpha = 0.05\n",
        "\n",
        "ztest_Score, p_value = ztest(data, value = null_mean, alternative='larger')"
      ]
    },
    {
      "cell_type": "code",
      "execution_count": 10,
      "id": "b3076da7",
      "metadata": {},
      "outputs": [
        {
          "data": {
            "text/plain": [
              "(-0.9953477389335053, 0.8402164165464012)"
            ]
          },
          "execution_count": 10,
          "metadata": {},
          "output_type": "execute_result"
        }
      ],
      "source": [
        "ztest_Score, p_value"
      ]
    },
    {
      "cell_type": "code",
      "execution_count": 11,
      "id": "fa2a9ce8",
      "metadata": {},
      "outputs": [
        {
          "name": "stdout",
          "output_type": "stream",
          "text": [
            "Н0 не може бути відхилена.\n"
          ]
        }
      ],
      "source": [
        "if(p_value <  alpha):\n",
        "    print(\"Відхилити Н0.\")\n",
        "else:\n",
        "    print(\"Н0 не може бути відхилена.\")"
      ]
    },
    {
      "cell_type": "markdown",
      "id": "0adb8af2",
      "metadata": {},
      "source": [
        "p-value показує ймовірність отримати такі або ще більш екстремальні результати при умові, що нульова гіпотеза є правильною.\n",
        "Якщо p-value <= alpha, ми відхиляємо нульову гіпотезу.   \n",
        "\n",
        "У нашому випадку 0,84 > 0.05, тому у нас немає статистичних підстав відхилити нульову гіпотезу."
      ]
    },
    {
      "cell_type": "markdown",
      "id": "05219e41",
      "metadata": {
        "ExecuteTime": {
          "end_time": "2022-12-10T14:52:46.140204Z",
          "start_time": "2022-12-10T14:52:46.112068Z"
        },
        "id": "05219e41"
      },
      "source": [
        "2. Пройшов час, і ми зібрали дані про продажі за серпень 2022 року, які зберігли у файл `data_2.csv`. Продажів було дещо більше, але чи змінився стат. значущо середній чек порівняно з липнем 2022? Перевірте це використовуючи ztest.\n",
        "\n",
        "  Виведіть p-значення статистичного тесту та зробіть висновок, чи ми маємо зараз статистично значущу різницю у розмірі середнього чека між двома місяцями.\n",
        "\n",
        "  **Підказка**: треба провести двовибірковий ztest з Н0 - що середні значення в липні та серпні 2022 року - однакові. Для кращого розуміння ситуації, можливо вам буде цікаво переглянути, які середні показники чеку були в кожен з місяців. Порівняйте свій висновок з простого спостереження середніх значень і висновок статистичного тесту. Чи вони збігаються?"
      ]
    },
    {
      "cell_type": "code",
      "execution_count": 13,
      "id": "hbs7LPI4hP-6",
      "metadata": {
        "id": "hbs7LPI4hP-6"
      },
      "outputs": [],
      "source": [
        "df_2 = pd.read_csv('../data/data_2.csv')\n",
        "\n",
        "data_2 = df_2['data'].to_numpy()"
      ]
    },
    {
      "cell_type": "code",
      "execution_count": 14,
      "id": "cbaceea3",
      "metadata": {},
      "outputs": [
        {
          "data": {
            "text/plain": [
              "(19.37755319670441, 19.37322276512519)"
            ]
          },
          "execution_count": 14,
          "metadata": {},
          "output_type": "execute_result"
        }
      ],
      "source": [
        "np.mean(data), np.mean(data_2)"
      ]
    },
    {
      "cell_type": "code",
      "execution_count": 15,
      "id": "60dee408",
      "metadata": {},
      "outputs": [
        {
          "data": {
            "text/plain": [
              "(0.005246673456808504, 0.9958137794593356)"
            ]
          },
          "execution_count": 15,
          "metadata": {},
          "output_type": "execute_result"
        }
      ],
      "source": [
        "ztest(data, data_2, value=0)"
      ]
    },
    {
      "cell_type": "markdown",
      "id": "c915bbc9",
      "metadata": {},
      "source": [
        "Статистика для двох вибірок z-критерію становить 0.005, а відповідне p-value дорівнює 0.995.\n",
        "\n",
        "Оскільки p-value > 0.05, у нас немає доказів, щоб відкинути нульову гіпотезу, тобто середній чек в серпні місяці статистично не відрізняється від липня місяця. Порівнявши, середні значення через `np.mean`, спостерігаємо, що цей показник практично однаковий для обох місяців."
      ]
    },
    {
      "cell_type": "markdown",
      "id": "bb616180",
      "metadata": {},
      "source": []
    }
  ],
  "metadata": {
    "colab": {
      "provenance": []
    },
    "hide_input": false,
    "kernelspec": {
      "display_name": "py312",
      "language": "python",
      "name": "python3"
    },
    "language_info": {
      "codemirror_mode": {
        "name": "ipython",
        "version": 3
      },
      "file_extension": ".py",
      "mimetype": "text/x-python",
      "name": "python",
      "nbconvert_exporter": "python",
      "pygments_lexer": "ipython3",
      "version": "3.12.0"
    },
    "toc": {
      "base_numbering": 1,
      "nav_menu": {},
      "number_sections": true,
      "sideBar": true,
      "skip_h1_title": false,
      "title_cell": "Table of Contents",
      "title_sidebar": "Contents",
      "toc_cell": false,
      "toc_position": {},
      "toc_section_display": true,
      "toc_window_display": false
    },
    "varInspector": {
      "cols": {
        "lenName": 16,
        "lenType": 16,
        "lenVar": 40
      },
      "kernels_config": {
        "python": {
          "delete_cmd_postfix": "",
          "delete_cmd_prefix": "del ",
          "library": "var_list.py",
          "varRefreshCmd": "print(var_dic_list())"
        },
        "r": {
          "delete_cmd_postfix": ") ",
          "delete_cmd_prefix": "rm(",
          "library": "var_list.r",
          "varRefreshCmd": "cat(var_dic_list()) "
        }
      },
      "types_to_exclude": [
        "module",
        "function",
        "builtin_function_or_method",
        "instance",
        "_Feature"
      ],
      "window_display": false
    }
  },
  "nbformat": 4,
  "nbformat_minor": 5
}
