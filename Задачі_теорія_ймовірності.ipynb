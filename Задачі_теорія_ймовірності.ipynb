{
 "cells": [
  {
   "cell_type": "markdown",
   "metadata": {},
   "source": [
    "## Завдання 1  \n",
    "\n",
    "### 1. Група \"травень\"  \n",
    "\n",
    "i = 24  \n",
    "s1 = 100  \n",
    "price = 10  \n",
    "q = 1 - r = 0.95  \n",
    "\n",
    "R_may = 100 * 10 * (1-0.95**24)/0.05 = 14160  \n",
    "\n",
    "### 2. Група \"червень\"  \n",
    "\n",
    "i = 23  \n",
    "s1 = 150  \n",
    "price = 10  \n",
    "q = 1 - r = 0.95  \n",
    "\n",
    "R_june = 150 * 10 * (1-0.95**23)/0.05 = 20779  \n",
    "\n",
    "### 3. Група \"липень\"  \n",
    "\n",
    "i = 22  \n",
    "s1 = 170  \n",
    "price = 10  \n",
    "q = 1 - r = 0.95  \n",
    "\n",
    "R_july = 170 * 10 * (1-0.95**22)/0.05 = 23000  \n",
    "\n",
    "### ВСЬОГО\n",
    "\n",
    "R_tot = R_may + R_june + R_july = 57939"
   ]
  },
  {
   "cell_type": "markdown",
   "metadata": {},
   "source": [
    "## Завдання 2"
   ]
  },
  {
   "cell_type": "markdown",
   "metadata": {},
   "source": [
    "net_growth_rate = 1 + 0.03 - 0.02 = 1.01  \n",
    "i = 23  \n",
    "s0 = 2000  \n",
    "\n",
    "### Кількість користувачів за період\n",
    "S(23) = 2000 * (1.01**23) = 2514"
   ]
  },
  {
   "cell_type": "markdown",
   "metadata": {},
   "source": [
    "## Завдання 3"
   ]
  },
  {
   "cell_type": "markdown",
   "metadata": {},
   "source": [
    "s1 (january) = 500    \n",
    "s2 (february) = 500 * 1.5 = 750  \n",
    "s3 (march) = 750 * 1.2 = 900  \n",
    "s4 (april) = 900 * 1.1 = 990  \n",
    "s5 (may) = 990 * 1.1 = 1089\n",
    "s6 (june) = 1089 * 1.1 = 1197\n",
    "\n",
    "Total active users = 500 + 750 + 900 + 990 + 1089 + 1197 = 5426"
   ]
  }
 ],
 "metadata": {
  "language_info": {
   "name": "python"
  }
 },
 "nbformat": 4,
 "nbformat_minor": 2
}
