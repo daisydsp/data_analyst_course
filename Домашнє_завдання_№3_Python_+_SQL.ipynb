{
  "cells": [
    {
      "cell_type": "markdown",
      "id": "2153041f",
      "metadata": {
        "id": "2153041f"
      },
      "source": [
        "# Завдання на використання SQL в Python"
      ]
    },
    {
      "cell_type": "markdown",
      "id": "2c1af6e1",
      "metadata": {
        "ExecuteTime": {
          "end_time": "2022-11-27T18:04:46.316592Z",
          "start_time": "2022-11-27T18:04:46.302021Z"
        },
        "id": "2c1af6e1"
      },
      "source": [
        "1.Встановіть бібліотеку `mysql-connector-python` через pip aбо через conda."
      ]
    },
    {
      "cell_type": "code",
      "execution_count": 1,
      "id": "a8fcd64e",
      "metadata": {
        "id": "a8fcd64e"
      },
      "outputs": [],
      "source": [
        "import mysql.connector\n",
        "from mysql.connector.connection import MySQLConnection\n",
        "import datetime"
      ]
    },
    {
      "cell_type": "markdown",
      "id": "eec5551e",
      "metadata": {
        "id": "eec5551e",
        "pycharm": {
          "name": "#%% md\n"
        }
      },
      "source": [
        "2.В змінній `con` створіть підключення до бази даних employees за аналогією того, як це робилось в лекції:"
      ]
    },
    {
      "cell_type": "code",
      "execution_count": 2,
      "id": "e3fff0d8",
      "metadata": {
        "id": "e3fff0d8"
      },
      "outputs": [],
      "source": [
        "con = mysql.connector.connect(user='root', password='Qazxswedc123',\n",
        "                              host='127.0.0.1',\n",
        "                              database='employees')"
      ]
    },
    {
      "cell_type": "markdown",
      "id": "8b17a588",
      "metadata": {
        "ExecuteTime": {
          "end_time": "2022-01-26T22:23:01.406330Z",
          "start_time": "2022-01-26T22:23:01.403942Z"
        },
        "id": "8b17a588",
        "pycharm": {
          "name": "#%% md\n"
        }
      },
      "source": [
        "3.Виберіть максимальну і мінімальну дати найму співробітників використовуючи `con.cursor()`. Аби отримати результати в кінці, виконайте `cursor.fetchall()`."
      ]
    },
    {
      "cell_type": "code",
      "execution_count": 3,
      "id": "2d9785de",
      "metadata": {
        "id": "2d9785de"
      },
      "outputs": [
        {
          "name": "stdout",
          "output_type": "stream",
          "text": [
            "[(datetime.date(2000, 1, 28), datetime.date(1985, 1, 1))]\n"
          ]
        }
      ],
      "source": [
        "cursor = con.cursor()\n",
        "\n",
        "sql = \"\"\"\n",
        "SELECT MAX(hire_date) AS max_date, MIN(hire_date) AS min_date\n",
        "FROM employees\n",
        "\"\"\"\n",
        "\n",
        "cursor.execute(sql)\n",
        "\n",
        "results = cursor.fetchall()\n",
        "\n",
        "print(results)\n"
      ]
    },
    {
      "cell_type": "markdown",
      "id": "955dd2fa",
      "metadata": {
        "ExecuteTime": {
          "end_time": "2022-11-27T18:11:33.491134Z",
          "start_time": "2022-11-27T18:11:33.486973Z"
        },
        "id": "955dd2fa"
      },
      "source": [
        "Очікуваний результат:  \n",
        "    `[(datetime.date(2000, 1, 28), datetime.date(1985, 1, 1))]`"
      ]
    },
    {
      "cell_type": "code",
      "execution_count": 4,
      "id": "e7162950",
      "metadata": {},
      "outputs": [
        {
          "data": {
            "text/plain": [
              "True"
            ]
          },
          "execution_count": 4,
          "metadata": {},
          "output_type": "execute_result"
        }
      ],
      "source": [
        "cursor.close()"
      ]
    },
    {
      "cell_type": "markdown",
      "id": "1d9c214d",
      "metadata": {
        "ExecuteTime": {
          "end_time": "2023-07-14T15:52:49.876166Z",
          "start_time": "2023-07-14T15:52:49.855548Z"
        },
        "id": "1d9c214d"
      },
      "source": [
        "4.Давайте зберемо інформацію про останню ЗП кожного співробіткника в базі. З використанням `con.cursor()` виберіть з таблиці `salaries` для кожного співробітника його номер, останню в базі даних (тобто ту, що відповідає найновішій `to_date`) ЗП, та значення `from_date`, `to_date` для цієї ЗП.\n",
        "\n",
        "Результати запишіть у pandas DataFrame, який збережіть у змінну `res`. Як взяти з курсора назви колонок - вже наведено. На екран виведіть назви колонок в змінній `res`, розмір цього датафрейму та перші 3 записи в ньому.\n",
        "\n",
        "УВАГА! Зверніть увагу, що ЗП може оновлюватись протягом одного дня, тобто є випадки, коли апдейт ЗП був в певний день, скажімо 2001-01-01 і потім стався ще один апдейт ЗП цьому співробітнику цього самого дня. Запит має це враховувати.\n",
        "Також, теоретично ЗП може бути зменшена. Тож, брати дату з максимальною ЗП буде неправильно з точки зору бізнес логіки. Треба саме останнє історичне значення ЗП кожного співробітника."
      ]
    },
    {
      "cell_type": "code",
      "execution_count": 8,
      "id": "f326ba43",
      "metadata": {
        "id": "f326ba43"
      },
      "outputs": [
        {
          "name": "stdout",
          "output_type": "stream",
          "text": [
            "   emp_no  salary   from_date     to_date\n",
            "0   10001   88958  2002-06-22  9999-01-01\n",
            "1   10002   72527  2001-08-02  9999-01-01\n",
            "2   10003   43311  2001-12-01  9999-01-01\n",
            "Розмір датафрейму: (300024, 4)\n"
          ]
        }
      ],
      "source": [
        "import pandas as pd\n",
        "\n",
        "cursor = con.cursor()\n",
        "\n",
        "sql = \"\"\"\n",
        "SELECT s.emp_no, s.salary, s.from_date, s.to_date\n",
        "FROM salaries s\n",
        "JOIN (\n",
        "    SELECT emp_no, MAX(from_date) AS max_from_date, to_date\n",
        "    FROM salaries\n",
        "    WHERE to_date = (\n",
        "        SELECT MAX(to_date)\n",
        "        FROM salaries s2\n",
        "        WHERE s2.emp_no = salaries.emp_no\n",
        "    )\n",
        "    GROUP BY emp_no, to_date\n",
        ") latest\n",
        "ON s.emp_no = latest.emp_no AND s.to_date = latest.to_date AND s.from_date = latest.max_from_date\n",
        "ORDER BY s.emp_no;\n",
        "\"\"\"\n",
        "\n",
        "cursor.execute(sql)\n",
        "results = cursor.fetchall()\n",
        "\n",
        "columns = [desc[0] for desc in cursor.description]  \n",
        "res = pd.DataFrame(results, columns=columns)\n",
        "\n",
        "print(res.head(3))\n",
        "print(\"Розмір датафрейму:\", res.shape)"
      ]
    },
    {
      "cell_type": "code",
      "execution_count": null,
      "id": "bf5eb14d",
      "metadata": {
        "ExecuteTime": {
          "end_time": "2023-07-14T16:14:15.617144Z",
          "start_time": "2023-07-14T16:14:15.611369Z"
        },
        "id": "bf5eb14d"
      },
      "outputs": [],
      "source": [
        "field_names = [i[0] for i in cursor.description]"
      ]
    },
    {
      "cell_type": "markdown",
      "id": "fb5676cb",
      "metadata": {
        "id": "fb5676cb"
      },
      "source": [
        "Очікуваний результат:\n",
        "\n",
        "![](https://drive.google.com/uc?export=view&id=1lNvzbAebtkj3C2v-I5AE6HkMH8MTI1kA)"
      ]
    },
    {
      "cell_type": "markdown",
      "id": "e5770b56",
      "metadata": {
        "ExecuteTime": {
          "end_time": "2023-07-14T16:17:31.638485Z",
          "start_time": "2023-07-14T16:17:31.632827Z"
        },
        "id": "e5770b56"
      },
      "source": [
        "5.В утвореній вибірці в змінній `res` скільки значень `to_date` рівні `9999-01-01`, а скільки - ні? Увага! Для виконання цього завдання важливо розуміти, який тип даних у значень колонки `to_date`. Зʼясуйте це, і потім напишіть фільтр для виводу потрібного результату."
      ]
    },
    {
      "cell_type": "code",
      "execution_count": 20,
      "id": "8a9dc7e5",
      "metadata": {
        "id": "8a9dc7e5"
      },
      "outputs": [
        {
          "name": "stdout",
          "output_type": "stream",
          "text": [
            "object\n"
          ]
        }
      ],
      "source": [
        "print(res['to_date'].dtype)"
      ]
    },
    {
      "cell_type": "code",
      "execution_count": 21,
      "id": "677c963c",
      "metadata": {},
      "outputs": [
        {
          "name": "stdout",
          "output_type": "stream",
          "text": [
            "Кількість значень 'to_date', рівних 9999-01-01: 240124\n",
            "Кількість значень 'to_date', не рівних 9999-01-01: 59900\n"
          ]
        }
      ],
      "source": [
        "res['to_date'] = res['to_date'].astype(str)\n",
        "equal_9999 = (res['to_date'] == '9999-01-01').sum()\n",
        "not_equal_9999 = (res['to_date'] != '9999-01-01').sum()\n",
        "\n",
        "print(f\"Кількість значень 'to_date', рівних 9999-01-01: {equal_9999}\")\n",
        "print(f\"Кількість значень 'to_date', не рівних 9999-01-01: {not_equal_9999}\")"
      ]
    },
    {
      "cell_type": "markdown",
      "id": "ae22c37a",
      "metadata": {
        "id": "ae22c37a"
      },
      "source": [
        "6.Виведіть візуально розподіл (гістограму) зарплат співробітників, які досі працюють в компанії, використовуючи результат попереднього завдання. Співробітниками, які досі працюють в компанії вважаємо тих, в кого to_date має значення 9999-01-01. Обовʼязково підпишіть графік і вісі.\n",
        "\n",
        "Ці три завдання - приклад, як нам може бути зручно витягнути дані з бази певним запитом, а потім використати витягнуту вибірку у Python для подальшого аналізу."
      ]
    },
    {
      "cell_type": "code",
      "execution_count": 24,
      "id": "ede9a748",
      "metadata": {
        "id": "ede9a748"
      },
      "outputs": [
        {
          "data": {
            "image/png": "[encoded data removed]",
            "text/plain": [
              "<Figure size 640x480 with 1 Axes>"
            ]
          },
          "metadata": {},
          "output_type": "display_data"
        }
      ],
      "source": [
        "current_employees = res[res['to_date'] == '9999-01-01']\n",
        "\n",
        "current_employees['salary'].plot(\n",
        "    kind='hist', \n",
        "    bins=10, \n",
        "    alpha = .5, \n",
        "    title='Розподіл зарплат поточних співробітників',\n",
        "    xlabel = 'Зарплата',\n",
        "    ylabel = 'Кількість співробітників',\n",
        "    grid = True);"
      ]
    },
    {
      "cell_type": "markdown",
      "id": "AL26SP3WMJiX",
      "metadata": {
        "id": "AL26SP3WMJiX"
      },
      "source": [
        "Очікуваний результат:\n",
        "\n",
        "![](https://drive.google.com/uc?export=view&id=1j8MHLC1E0revbQLM9B0UJs6tVEgoWhmK)"
      ]
    },
    {
      "cell_type": "markdown",
      "id": "Cp_JpGPpKmzp",
      "metadata": {
        "id": "Cp_JpGPpKmzp"
      },
      "source": [
        "НЕ ЗАБУВАЄМО ЗАКРИТИ ПІДКЛЮЧЕННЯ ДО БАЗИ :)"
      ]
    },
    {
      "cell_type": "code",
      "execution_count": 25,
      "id": "WEMo9bl6KnMh",
      "metadata": {
        "id": "WEMo9bl6KnMh"
      },
      "outputs": [],
      "source": [
        "con.close()"
      ]
    },
    {
      "cell_type": "code",
      "execution_count": null,
      "id": "103d9890",
      "metadata": {},
      "outputs": [],
      "source": []
    }
  ],
  "metadata": {
    "colab": {
      "provenance": []
    },
    "kernelspec": {
      "display_name": "py312",
      "language": "python",
      "name": "python3"
    },
    "language_info": {
      "codemirror_mode": {
        "name": "ipython",
        "version": 3
      },
      "file_extension": ".py",
      "mimetype": "text/x-python",
      "name": "python",
      "nbconvert_exporter": "python",
      "pygments_lexer": "ipython3",
      "version": "3.12.0"
    },
    "toc": {
      "base_numbering": 1,
      "nav_menu": {},
      "number_sections": true,
      "sideBar": true,
      "skip_h1_title": false,
      "title_cell": "Table of Contents",
      "title_sidebar": "Contents",
      "toc_cell": false,
      "toc_position": {},
      "toc_section_display": true,
      "toc_window_display": false
    }
  },
  "nbformat": 4,
  "nbformat_minor": 5
}
